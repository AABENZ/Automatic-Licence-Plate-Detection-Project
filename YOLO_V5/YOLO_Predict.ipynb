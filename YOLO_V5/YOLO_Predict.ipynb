{
 "cells": [
  {
   "cell_type": "code",
   "execution_count": 1,
   "id": "15ef55ef",
   "metadata": {},
   "outputs": [],
   "source": [
    "import cv2\n",
    "import numpy as np\n",
    "import os\n",
    "import pytesseract as pt"
   ]
  },
  {
   "cell_type": "code",
   "execution_count": 2,
   "id": "f6ecd1e5",
   "metadata": {},
   "outputs": [],
   "source": [
    "# image setting\n",
    "# our model is trained on 640x640 image\n",
    "IMAGE_WIDTH = 640\n",
    "IMAGE_HEIGHT = 640"
   ]
  },
  {
   "cell_type": "code",
   "execution_count": 59,
   "id": "776aed55",
   "metadata": {},
   "outputs": [],
   "source": [
    "# load image\n",
    "img = cv2.imread('./test_images/getty_sample.jpg')\n",
    "cv2.namedWindow('example',cv2.WINDOW_NORMAL) #it allows to resize the window\n",
    "cv2.imshow('example',img)\n",
    "cv2.waitKey(0) #allows to display a window for given milliseconds or until any key is pressed\n",
    "cv2.destroyAllWindows() #if i press any button the window will be closed"
   ]
  },
  {
   "cell_type": "code",
   "execution_count": 60,
   "id": "a0a0558b",
   "metadata": {},
   "outputs": [],
   "source": [
    "#Load Model\n",
    "net = cv2.dnn.readNetFromONNX('./Model6/weights/best.onnx')\n",
    "net.setPreferableBackend(cv2.dnn.DNN_BACKEND_OPENCV)\n",
    "net.setPreferableTarget(cv2.dnn.DNN_TARGET_CPU)"
   ]
  },
  {
   "cell_type": "code",
   "execution_count": 61,
   "id": "9f4792e4",
   "metadata": {},
   "outputs": [],
   "source": [
    "#COnvert Image to YOLO format\n",
    "image = img.copy()\n",
    "row,col,d = image.shape\n",
    "\n",
    "#get the max\n",
    "max_rc = max(row,col)\n",
    "input_image = np.zeros((max_rc,max_rc,3),dtype=np.uint8)\n",
    "input_image[0:row,0:col] = image\n",
    "\n",
    "cv2.namedWindow('example',cv2.WINDOW_NORMAL) #it allows to resize the window\n",
    "cv2.imshow('example',input_image)\n",
    "cv2.waitKey(0) #allows to display a window for given milliseconds or until any key is pressed\n",
    "cv2.destroyAllWindows() #if i press any button the window will be closed"
   ]
  },
  {
   "cell_type": "code",
   "execution_count": 62,
   "id": "71db0235",
   "metadata": {},
   "outputs": [],
   "source": [
    "#GET prediction from YOLO model\n",
    "blob = cv2.dnn.blobFromImage(input_image,1/255,(IMAGE_WIDTH,IMAGE_HEIGHT),swapRB=True,crop=False)\n",
    "net.setInput(blob)\n",
    "preds = net.forward()\n",
    "detections = preds[0]"
   ]
  },
  {
   "cell_type": "code",
   "execution_count": 63,
   "id": "42e27e1b",
   "metadata": {},
   "outputs": [],
   "source": [
    "#FILTER detections based on confidence and probability score\n",
    "#1st column = center_x , 2nd column = center_y , 3rd col = w , 4th col = h , 5th col = confidence , 6th col = probability\n",
    "boxes = []\n",
    "confidences = []\n",
    "\n",
    "image_w , image_h = input_image.shape[:2]\n",
    "x_factor = image_w/IMAGE_WIDTH\n",
    "y_factor = image_h/IMAGE_HEIGHT\n",
    "\n",
    "for i in range(len(detections)):\n",
    "    row = detections[i]\n",
    "    confidence = row[4] #confidence of detectin licence plate\n",
    "    if confidence > 0.4:\n",
    "        class_score = row[5] #probability score of licence plate\n",
    "        if class_score > 0.25:\n",
    "            cx , cy , w , h = row[0:4] # get the bounding box dimensions\n",
    "            \n",
    "            left = int((cx-0.5*w)*x_factor)\n",
    "            top = int((cy-0.5*h)*y_factor)\n",
    "            width = int(w*x_factor)\n",
    "            height = int(h*y_factor)\n",
    "            box = np.array([left,top,width,height])\n",
    "            \n",
    "            confidences.append(confidence)\n",
    "            boxes.append(box)\n",
    "        \n",
    "        #Non-Maximum Suppression\n",
    "        # its when the bounding box is repeated many time\n",
    "        boxes_np = np.array(boxes).tolist()\n",
    "        confidences_np = np.array(confidences).tolist()\n",
    "        \n",
    "        index = cv2.dnn.NMSBoxes(boxes_np,confidences_np,0.25,0.45).flatten()\n",
    "            "
   ]
  },
  {
   "cell_type": "code",
   "execution_count": 64,
   "id": "c2942b9b",
   "metadata": {},
   "outputs": [],
   "source": [
    "#Draw the rectangle box\n",
    "for ind in index:\n",
    "    x,y,w,h = boxes_np[ind]\n",
    "    bb_conf = confidences_np[ind]\n",
    "    conf_text = 'plate: {:.0f}%'.format(bb_conf*100)\n",
    "    \n",
    "    cv2.rectangle(image,(x,y),(x+w,y+w),(255,0,255),2)\n",
    "    cv2.rectangle(image,(x,y-30),(x+w,y),(255,0,255),-1)\n",
    "    \n",
    "    cv2.putText(image,conf_text,(x,y-10),cv2.FONT_HERSHEY_TRIPLEX,0.7,(255,255,255),1)\n",
    "\n",
    "cv2.namedWindow('PLATE DETECTION',cv2.WINDOW_NORMAL)\n",
    "cv2.imshow('PLATE DETECTION',image)\n",
    "cv2.waitKey(0) #allows to display a window for given milliseconds or until any key is pressed\n",
    "cv2.destroyAllWindows() #if i press any button the window will be closed"
   ]
  },
  {
   "cell_type": "code",
   "execution_count": null,
   "id": "922ff02f",
   "metadata": {},
   "outputs": [],
   "source": []
  }
 ],
 "metadata": {
  "kernelspec": {
   "display_name": "Python 3",
   "language": "python",
   "name": "python3"
  },
  "language_info": {
   "codemirror_mode": {
    "name": "ipython",
    "version": 3
   },
   "file_extension": ".py",
   "mimetype": "text/x-python",
   "name": "python",
   "nbconvert_exporter": "python",
   "pygments_lexer": "ipython3",
   "version": "3.8.8"
  }
 },
 "nbformat": 4,
 "nbformat_minor": 5
}
